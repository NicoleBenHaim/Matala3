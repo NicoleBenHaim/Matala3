{
 "cells": [
  {
   "cell_type": "code",
   "execution_count": 1,
   "id": "9705df2f",
   "metadata": {},
   "outputs": [],
   "source": [
    "import pandas as pd\n",
    "import numpy as np \n",
    "import matplotlib.pyplot as plt\n",
    "import seaborn as sns\n",
    "import socket\n",
    "import requests\n",
    "import json\n",
    "import urllib"
   ]
  },
  {
   "cell_type": "code",
   "execution_count": 2,
   "id": "185f65d2",
   "metadata": {},
   "outputs": [],
   "source": [
    "addresses=open('dests.txt', 'r')\n",
    "addresses=addresses.read()\n",
    "addresses=addresses.split()"
   ]
  },
  {
   "cell_type": "code",
   "execution_count": 3,
   "id": "6380ba33",
   "metadata": {},
   "outputs": [],
   "source": [
    "def geo(address,exp):\n",
    "    url=\"https://maps.googleapis.com/maps/api/geocode/json?address=%s&key=%s\" % (address,api_key)\n",
    "    try:\n",
    "        response = requests.get(url)\n",
    "        if not response.status_code == 200:\n",
    "            print(\"HTTP error\",response.status_code)\n",
    "        else:\n",
    "            try:\n",
    "                response_data = response.json()\n",
    "                lat=response_data['results'][0]['geometry']['location']['lat']\n",
    "                lng=response_data['results'][0]['geometry']['location']['lng']\n",
    "                if exp=='Longitude':\n",
    "                    return lng\n",
    "                else:\n",
    "                    return lat\n",
    "            except:\n",
    "                print(\"Response not in valid JSON format\")\n",
    "    except:\n",
    "        print(\"Something went wrong with requests.get\")"
   ]
  },
  {
   "cell_type": "code",
   "execution_count": 4,
   "id": "1b72208c",
   "metadata": {},
   "outputs": [],
   "source": [
    "def add(address,exp):\n",
    "    Serviceurl ='https://maps.googleapis.com/maps/api/distancematrix/json?'\n",
    "    parms = dict()\n",
    "    parms['origins']='Tel Aviv'\n",
    "    parms['destinations'] = address\n",
    "    parms['key'] = api_key\n",
    "    url = Serviceurl + urllib.parse.urlencode(parms)\n",
    "    try:\n",
    "        response = requests.get(url)\n",
    "        if not response.status_code == 200:\n",
    "            print(\"HTTP error\",response.status_code)\n",
    "        else:\n",
    "            try:\n",
    "                response_data = response.json()\n",
    "                dic_km=response_data['rows'][0]['elements'][0]['distance']['text'].split(' ')\n",
    "                time_min=response_data['rows'][0]['elements'][0]['duration']['value']/60\n",
    "                if exp=='time':\n",
    "                    return round(time_min,2)\n",
    "                else:\n",
    "                    return dic_km[0]\n",
    "            except:\n",
    "                print(\"Response not in valid JSON format\")\n",
    "    except:\n",
    "        print(\"Something went wrong with requests.get\")"
   ]
  },
  {
   "cell_type": "code",
   "execution_count": 5,
   "id": "58322524",
   "metadata": {},
   "outputs": [],
   "source": [
    "df = pd.DataFrame(columns=('Target','Distance_km','Duration(hour+minutes)','Longitude','latitude'))                   "
   ]
  },
  {
   "cell_type": "code",
   "execution_count": 6,
   "id": "9d95d9f3",
   "metadata": {},
   "outputs": [
    {
     "name": "stdout",
     "output_type": "stream",
     "text": [
      "      Target Distance_km  Duration(hour+minutes)  Longitude   latitude\n",
      "0   Istanbul       1,815                 1262.87  28.978359  41.008238\n",
      "1  Amsterdam       4,533                 2883.48   4.904139  52.367573\n",
      "2   Valletta       3,793                 3050.93  14.514100  35.899237\n",
      "3      Basel       4,093                 2642.45   7.588576  47.559599\n",
      "4       Doha       2,164                 1358.78  51.531040  25.285447\n"
     ]
    }
   ],
   "source": [
    "df['Target']=addresses\n",
    "df['Distance_km']=df['Target'].apply(lambda x: add(x,'dis'))\n",
    "df['Duration(hour+minutes)']=df['Target'].apply(lambda x: add(x,'time'))\n",
    "df['Longitude']=df['Target'].apply(lambda x: geo(x,'Longitude'))\n",
    "df['latitude']=df['Target'].apply(lambda x: geo(x,'latitude'))\n",
    "print(df)"
   ]
  },
  {
   "cell_type": "code",
   "execution_count": 7,
   "id": "11c13faa",
   "metadata": {},
   "outputs": [
    {
     "name": "stdout",
     "output_type": "stream",
     "text": [
      "      Target Distance_km  Duration(hour+minutes)  Longitude   latitude\n",
      "1  Amsterdam       4,533                 2883.48   4.904139  52.367573\n",
      "3      Basel       4,093                 2642.45   7.588576  47.559599\n",
      "2   Valletta       3,793                 3050.93  14.514100  35.899237\n"
     ]
    }
   ],
   "source": [
    "df_furthest=df.sort_values(by='Distance_km', ascending=False)\n",
    "print(df_furthest.head(3))"
   ]
  },
  {
   "cell_type": "code",
   "execution_count": null,
   "id": "c8ab7362",
   "metadata": {},
   "outputs": [],
   "source": []
  }
 ],
 "metadata": {
  "kernelspec": {
   "display_name": "Python 3 (ipykernel)",
   "language": "python",
   "name": "python3"
  },
  "language_info": {
   "codemirror_mode": {
    "name": "ipython",
    "version": 3
   },
   "file_extension": ".py",
   "mimetype": "text/x-python",
   "name": "python",
   "nbconvert_exporter": "python",
   "pygments_lexer": "ipython3",
   "version": "3.10.9"
  }
 },
 "nbformat": 4,
 "nbformat_minor": 5
}
